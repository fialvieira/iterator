{
 "cells": [
  {
   "cell_type": "code",
   "execution_count": 1,
   "id": "baf553c8",
   "metadata": {},
   "outputs": [],
   "source": [
    "import itertools"
   ]
  },
  {
   "cell_type": "code",
   "execution_count": 2,
   "id": "57a5432f",
   "metadata": {},
   "outputs": [
    {
     "name": "stdout",
     "output_type": "stream",
     "text": [
      "0\n",
      "1\n",
      "2\n",
      "3\n",
      "4\n"
     ]
    }
   ],
   "source": [
    "#Exemplo 1 - Range()\n",
    "for i in range(5):\n",
    "    print(i)"
   ]
  },
  {
   "cell_type": "code",
   "execution_count": 3,
   "id": "80a6a939",
   "metadata": {},
   "outputs": [
    {
     "name": "stdout",
     "output_type": "stream",
     "text": [
      "maçã\n",
      "banana\n",
      "laranja\n"
     ]
    }
   ],
   "source": [
    "#Exemplo 2 - Iterar lista\n",
    "frutas = [\"maçã\", \"banana\", \"laranja\"]\n",
    "for fruta in frutas:\n",
    "    print(fruta)"
   ]
  },
  {
   "cell_type": "code",
   "execution_count": 7,
   "id": "faf49b61",
   "metadata": {},
   "outputs": [
    {
     "name": "stdout",
     "output_type": "stream",
     "text": [
      "nome : João\n",
      "idade : 30\n",
      "cidade : São Paulo\n"
     ]
    }
   ],
   "source": [
    "#Exemplo 3 - Iterar um dicionário\n",
    "pessoa = {\"nome\": \"João\", \"idade\": 30, \"cidade\": \"São Paulo\"}\n",
    "for chave, valor in pessoa.items():\n",
    "    print(chave, \":\", valor)"
   ]
  },
  {
   "cell_type": "code",
   "execution_count": 8,
   "id": "878dcc61",
   "metadata": {},
   "outputs": [
    {
     "name": "stdout",
     "output_type": "stream",
     "text": [
      "0 : maçã\n",
      "1 : banana\n",
      "2 : laranja\n"
     ]
    }
   ],
   "source": [
    "#Exemplo 4 - Enumerate()\n",
    "frutas = [\"maçã\", \"banana\", \"laranja\"]\n",
    "for indice, fruta in enumerate(frutas):\n",
    "    print(indice, \":\", fruta)"
   ]
  },
  {
   "cell_type": "code",
   "execution_count": 9,
   "id": "8b611e80",
   "metadata": {},
   "outputs": [
    {
     "name": "stdout",
     "output_type": "stream",
     "text": [
      "João tem 30 anos\n",
      "Maria tem 25 anos\n",
      "José tem 40 anos\n"
     ]
    }
   ],
   "source": [
    "#Exemplo 5 - Zip()\n",
    "nomes = [\"João\", \"Maria\", \"José\"]\n",
    "idades = [30, 25, 40]\n",
    "for nome, idade in zip(nomes, idades):\n",
    "    print(nome, \"tem\", idade, \"anos\")\n"
   ]
  },
  {
   "cell_type": "code",
   "execution_count": 10,
   "id": "9ecfd5c7",
   "metadata": {},
   "outputs": [
    {
     "name": "stdout",
     "output_type": "stream",
     "text": [
      "10\n",
      "12\n",
      "14\n",
      "16\n",
      "18\n",
      "20\n"
     ]
    }
   ],
   "source": [
    "#Exemplo 6 - Itertools\n",
    "for i in itertools.count(start=10, step=2):\n",
    "    if i > 20:\n",
    "        break\n",
    "    print(i)"
   ]
  }
 ],
 "metadata": {
  "kernelspec": {
   "display_name": "Python 3",
   "language": "python",
   "name": "python3"
  },
  "language_info": {
   "codemirror_mode": {
    "name": "ipython",
    "version": 3
   },
   "file_extension": ".py",
   "mimetype": "text/x-python",
   "name": "python",
   "nbconvert_exporter": "python",
   "pygments_lexer": "ipython3",
   "version": "3.13.3"
  }
 },
 "nbformat": 4,
 "nbformat_minor": 5
}
