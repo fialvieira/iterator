{
 "cells": [
  {
   "cell_type": "code",
   "execution_count": 1,
   "id": "0fa040b9",
   "metadata": {},
   "outputs": [
    {
     "name": "stdout",
     "output_type": "stream",
     "text": [
      "0\n",
      "1\n",
      "4\n",
      "9\n",
      "16\n",
      "25\n",
      "36\n",
      "49\n",
      "64\n",
      "81\n"
     ]
    }
   ],
   "source": [
    "# 1 - Gerador de expressão\n",
    "quadrados = (x**2 for x in range(10))\n",
    "\n",
    "for n in quadrados:\n",
    "    print(n)"
   ]
  },
  {
   "cell_type": "code",
   "execution_count": 2,
   "id": "c20de834",
   "metadata": {},
   "outputs": [
    {
     "name": "stdout",
     "output_type": "stream",
     "text": [
      "0\n",
      "1\n",
      "2\n",
      "3\n",
      "4\n",
      "5\n",
      "6\n",
      "7\n",
      "8\n",
      "9\n"
     ]
    }
   ],
   "source": [
    "# 2 - Iterador infinito\n",
    "def contador_infinito():\n",
    "    i = 0\n",
    "    while True:\n",
    "        yield i\n",
    "        i += 1\n",
    "\n",
    "contador = contador_infinito()\n",
    "for _ in range(10):\n",
    "    print(next(contador))"
   ]
  },
  {
   "cell_type": "code",
   "execution_count": 3,
   "id": "e61d1626",
   "metadata": {},
   "outputs": [
    {
     "name": "stdout",
     "output_type": "stream",
     "text": [
      "10\n",
      "30\n",
      "60\n"
     ]
    }
   ],
   "source": [
    "# 3 - Coleta de valores com send()\n",
    "def gerador_soma():\n",
    "    total = 0\n",
    "    while True:\n",
    "        valor = yield total\n",
    "        if valor is not None:\n",
    "            total += valor\n",
    "soma = gerador_soma()\n",
    "next(soma)  # Inicializa o gerador\n",
    "print(soma.send(10))  # Adiciona 10\n",
    "print(soma.send(20))  # Adiciona 20\n",
    "print(soma.send(30))  # Adiciona 30"
   ]
  },
  {
   "cell_type": "code",
   "execution_count": 1,
   "id": "e17559e0",
   "metadata": {},
   "outputs": [
    {
     "name": "stdout",
     "output_type": "stream",
     "text": [
      "Recebido: 10\n",
      "Valor inválido!\n"
     ]
    },
    {
     "ename": "StopIteration",
     "evalue": "",
     "output_type": "error",
     "traceback": [
      "\u001b[31m---------------------------------------------------------------------------\u001b[39m",
      "\u001b[31mStopIteration\u001b[39m                             Traceback (most recent call last)",
      "\u001b[36mCell\u001b[39m\u001b[36m \u001b[39m\u001b[32mIn[1]\u001b[39m\u001b[32m, line 13\u001b[39m\n\u001b[32m     11\u001b[39m \u001b[38;5;28mnext\u001b[39m(g)  \u001b[38;5;66;03m# Inicializa o gerador\u001b[39;00m\n\u001b[32m     12\u001b[39m g.send(\u001b[32m10\u001b[39m)\n\u001b[32m---> \u001b[39m\u001b[32m13\u001b[39m \u001b[43mg\u001b[49m\u001b[43m.\u001b[49m\u001b[43mthrow\u001b[49m\u001b[43m(\u001b[49m\u001b[38;5;167;43;01mValueError\u001b[39;49;00m\u001b[43m)\u001b[49m  \u001b[38;5;66;03m# Lança uma exceção dentro do gerador\u001b[39;00m\n",
      "\u001b[31mStopIteration\u001b[39m: "
     ]
    }
   ],
   "source": [
    "# 4 - Tratamento de exceções\n",
    "def gerador_excecao():\n",
    "    try:\n",
    "        while True:\n",
    "            valor = yield\n",
    "            print(f\"Recebido: {valor}\")\n",
    "    except ValueError:\n",
    "        print(\"Valor inválido!\")\n",
    "\n",
    "g = gerador_excecao()\n",
    "next(g)  # Inicializa o gerador\n",
    "g.send(10)\n",
    "g.throw(ValueError)  # Lança uma exceção dentro do gerador"
   ]
  },
  {
   "cell_type": "code",
   "execution_count": 2,
   "id": "5b4aa1d2",
   "metadata": {},
   "outputs": [
    {
     "name": "stdout",
     "output_type": "stream",
     "text": [
      "5\n",
      "7\n",
      "9\n",
      "11\n",
      "13\n"
     ]
    }
   ],
   "source": [
    "# 5 - Cascata de geradores\n",
    "def multiplicar_por_dois(iterable):\n",
    "    for item in iterable:\n",
    "        yield item * 2\n",
    "\n",
    "def somar_cinco(iterable):\n",
    "    for item in iterable:\n",
    "        yield item + 5\n",
    "\n",
    "numeros = range(5)\n",
    "resultado = somar_cinco(multiplicar_por_dois(numeros))\n",
    "for n in resultado:\n",
    "    print(n)\n"
   ]
  }
 ],
 "metadata": {
  "kernelspec": {
   "display_name": "Python 3",
   "language": "python",
   "name": "python3"
  },
  "language_info": {
   "codemirror_mode": {
    "name": "ipython",
    "version": 3
   },
   "file_extension": ".py",
   "mimetype": "text/x-python",
   "name": "python",
   "nbconvert_exporter": "python",
   "pygments_lexer": "ipython3",
   "version": "3.13.3"
  }
 },
 "nbformat": 4,
 "nbformat_minor": 5
}
