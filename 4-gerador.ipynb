{
 "cells": [
  {
   "cell_type": "markdown",
   "id": "f47ff5bc",
   "metadata": {},
   "source": [
    "Yield\n",
    "- É uma palavra chave para criar geradores. Quando você usa ele em uma função, você a transforma em um gerador, que é um tipo especial de iterador.\n",
    "- Return: Quando é usado em uma função, é encerrada e o valor é retornado. Chamadas subsequentes à função, iniciam a execução novamente do código.\n",
    "- Yield: Pode ser chamada novamente e retomar a execução do ponto onde foi pausada, permitindo a produção de uma sequência ao longo do tempo."
   ]
  },
  {
   "cell_type": "code",
   "execution_count": 1,
   "id": "15e05f21",
   "metadata": {},
   "outputs": [],
   "source": [
    "def numeros_impares(n):\n",
    "    for i in range(1, n + 1, 2):\n",
    "        yield i\n"
   ]
  },
  {
   "cell_type": "code",
   "execution_count": 2,
   "id": "56e9e9a8",
   "metadata": {},
   "outputs": [
    {
     "name": "stdout",
     "output_type": "stream",
     "text": [
      "1\n",
      "3\n",
      "5\n",
      "7\n",
      "9\n"
     ]
    }
   ],
   "source": [
    "for numero in numeros_impares(10):\n",
    "    print(numero)\n"
   ]
  }
 ],
 "metadata": {
  "kernelspec": {
   "display_name": "Python 3",
   "language": "python",
   "name": "python3"
  },
  "language_info": {
   "codemirror_mode": {
    "name": "ipython",
    "version": 3
   },
   "file_extension": ".py",
   "mimetype": "text/x-python",
   "name": "python",
   "nbconvert_exporter": "python",
   "pygments_lexer": "ipython3",
   "version": "3.13.3"
  }
 },
 "nbformat": 4,
 "nbformat_minor": 5
}
