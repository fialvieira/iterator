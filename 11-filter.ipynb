{
 "cells": [
  {
   "cell_type": "markdown",
   "id": "5fe306b4",
   "metadata": {},
   "source": [
    "Filter\n",
    "- É usada para filtrar elementos de um iterável com base em uma função que pode retornar True ou False.\n",
    "- O objetivo é permitir apenas os elementos que satisfazem uma condição."
   ]
  },
  {
   "cell_type": "code",
   "execution_count": 1,
   "id": "024ac71c",
   "metadata": {},
   "outputs": [],
   "source": [
    "def e_par(x):\n",
    "    return x % 2 == 0"
   ]
  },
  {
   "cell_type": "code",
   "execution_count": 2,
   "id": "e8f6f192",
   "metadata": {},
   "outputs": [],
   "source": [
    "numeros = [1,2,3,4,5,6]"
   ]
  },
  {
   "cell_type": "code",
   "execution_count": 3,
   "id": "a86909f6",
   "metadata": {},
   "outputs": [
    {
     "data": {
      "text/plain": [
       "[2, 4, 6]"
      ]
     },
     "execution_count": 3,
     "metadata": {},
     "output_type": "execute_result"
    }
   ],
   "source": [
    "numeros_pares = filter(e_par, numeros)\n",
    "list(numeros_pares)"
   ]
  },
  {
   "cell_type": "code",
   "execution_count": 4,
   "id": "dfd29676",
   "metadata": {},
   "outputs": [],
   "source": [
    "produtos = [\n",
    "    {\"nome\": \"Produto A\", \"preco\": 10.0, \"em_estoque\": True},\n",
    "    {\"nome\": \"Produto B\", \"preco\": 20.0, \"em_estoque\": False},\n",
    "    {\"nome\": \"Produto C\", \"preco\": 30.0, \"em_estoque\": True},\n",
    "    {\"nome\": \"Produto D\", \"preco\": 40.0, \"em_estoque\": False}\n",
    "]"
   ]
  },
  {
   "cell_type": "code",
   "execution_count": 5,
   "id": "dfb0db33",
   "metadata": {},
   "outputs": [],
   "source": [
    "def produto_em_estoque(produto):\n",
    "    return produto[\"em_estoque\"]"
   ]
  },
  {
   "cell_type": "code",
   "execution_count": 6,
   "id": "c0005a20",
   "metadata": {},
   "outputs": [
    {
     "data": {
      "text/plain": [
       "[{'nome': 'Produto A', 'preco': 10.0, 'em_estoque': True},\n",
       " {'nome': 'Produto C', 'preco': 30.0, 'em_estoque': True}]"
      ]
     },
     "execution_count": 6,
     "metadata": {},
     "output_type": "execute_result"
    }
   ],
   "source": [
    "list(filter(produto_em_estoque, produtos))"
   ]
  },
  {
   "cell_type": "code",
   "execution_count": 7,
   "id": "cd735ad9",
   "metadata": {},
   "outputs": [],
   "source": [
    "transacoes = [200.0, -50.0, 75.0, -30.0, 100.0, -10.0]"
   ]
  },
  {
   "cell_type": "code",
   "execution_count": 8,
   "id": "e2cd9811",
   "metadata": {},
   "outputs": [],
   "source": [
    "def e_despesa(transacao):\n",
    "    return transacao < 0"
   ]
  },
  {
   "cell_type": "code",
   "execution_count": 9,
   "id": "76195d0f",
   "metadata": {},
   "outputs": [
    {
     "data": {
      "text/plain": [
       "[-50.0, -30.0, -10.0]"
      ]
     },
     "execution_count": 9,
     "metadata": {},
     "output_type": "execute_result"
    }
   ],
   "source": [
    "list(filter(e_despesa, transacoes))"
   ]
  }
 ],
 "metadata": {
  "kernelspec": {
   "display_name": "Python 3",
   "language": "python",
   "name": "python3"
  },
  "language_info": {
   "codemirror_mode": {
    "name": "ipython",
    "version": 3
   },
   "file_extension": ".py",
   "mimetype": "text/x-python",
   "name": "python",
   "nbconvert_exporter": "python",
   "pygments_lexer": "ipython3",
   "version": "3.12.1"
  }
 },
 "nbformat": 4,
 "nbformat_minor": 5
}
