{
 "cells": [
  {
   "cell_type": "markdown",
   "id": "bea7d9f4",
   "metadata": {},
   "source": [
    "Walrus\n",
    "- Esse operador é usado para atribuições de variáveis dentro de expressões.\n",
    "- É usado com o operador :=\n",
    "- Permite que você atribua um valor a uma variável enquanto avalia uma expressão."
   ]
  },
  {
   "cell_type": "code",
   "execution_count": 1,
   "id": "55edf714",
   "metadata": {},
   "outputs": [],
   "source": [
    "numeros = [5,12,3,18,7,20]"
   ]
  },
  {
   "cell_type": "code",
   "execution_count": 13,
   "id": "b78a8bf7",
   "metadata": {},
   "outputs": [
    {
     "name": "stdout",
     "output_type": "stream",
     "text": [
      "[12, 18, 20]\n"
     ]
    }
   ],
   "source": [
    "# Filtrar e armazenar números maiores do que 10.\n",
    "numeros_maiores = [n for n in numeros if (maior := n) > 10]\n",
    "print(numeros_maiores)"
   ]
  },
  {
   "cell_type": "code",
   "execution_count": 10,
   "id": "a8422ac9",
   "metadata": {},
   "outputs": [
    {
     "name": "stdout",
     "output_type": "stream",
     "text": [
      "O comprimento é 6\n"
     ]
    }
   ],
   "source": [
    "my_list = [1, 2, 3, 4, 5]\n",
    "if (length := len(numeros)) > 3:\n",
    "    print(f\"O comprimento é {length}\")"
   ]
  },
  {
   "cell_type": "code",
   "execution_count": 15,
   "id": "e954324f",
   "metadata": {},
   "outputs": [
    {
     "name": "stdout",
     "output_type": "stream",
     "text": [
      "['Olá mundo', 'Esta é uma linha de teste', 'Python é fácil', 'Ruby é interessante']\n"
     ]
    }
   ],
   "source": [
    "linhas_processadas = []\n",
    "with open(\"texto.txt\", \"r\", encoding=\"utf-8\") as arquivo:\n",
    "    for linha in arquivo:\n",
    "        if(linha_limpa := linha.strip()):\n",
    "            linhas_processadas.append(linha_limpa)\n",
    "\n",
    "print(linhas_processadas)"
   ]
  }
 ],
 "metadata": {
  "kernelspec": {
   "display_name": "Python 3",
   "language": "python",
   "name": "python3"
  },
  "language_info": {
   "codemirror_mode": {
    "name": "ipython",
    "version": 3
   },
   "file_extension": ".py",
   "mimetype": "text/x-python",
   "name": "python",
   "nbconvert_exporter": "python",
   "pygments_lexer": "ipython3",
   "version": "3.12.1"
  }
 },
 "nbformat": 4,
 "nbformat_minor": 5
}
