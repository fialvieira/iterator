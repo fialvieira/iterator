{
 "cells": [
  {
   "cell_type": "code",
   "execution_count": null,
   "id": "5bd3efdc",
   "metadata": {},
   "outputs": [],
   "source": [
    "# Função que retorna um gerador de linhas com um número específico de palavras\n",
    "def linhas_com_numeros_de_palavras(arquivo, numero):\n",
    "    with open(arquivo, 'r', encoding='utf-8') as file:\n",
    "        for linha in file:\n",
    "            if len(linha.split()) == numero:\n",
    "                yield linha.strip()\n",
    "\n",
    "# Função que retorna uma lista de linhas com um número específico de palavras\n",
    "def linhas_palavras(arquivo, numero) -> list[str]:\n",
    "    ret = []\n",
    "    with open(arquivo, 'r', encoding='utf-8') as file:\n",
    "        for linha in file:\n",
    "            if len(linha.split()) == numero:\n",
    "                ret.append(linha.strip())\n",
    "    return ret"
   ]
  },
  {
   "cell_type": "code",
   "execution_count": null,
   "id": "b4024d3a",
   "metadata": {},
   "outputs": [
    {
     "name": "stdout",
     "output_type": "stream",
     "text": [
      "Python é fácil\n",
      "Ruby é interessante\n",
      "Python é fácil\n",
      "Ruby é interessante\n"
     ]
    }
   ],
   "source": [
    "arquivo = \"texto.txt\"\n",
    "numero_palavras = 3\n",
    "\n",
    "for linha in linhas_com_numeros_de_palavras(arquivo, numero_palavras):\n",
    "    print(linha)\n",
    "\n",
    "for linha in linhas_palavras(arquivo, numero_palavras):\n",
    "    print(linha)"
   ]
  }
 ],
 "metadata": {
  "kernelspec": {
   "display_name": "Python 3",
   "language": "python",
   "name": "python3"
  },
  "language_info": {
   "codemirror_mode": {
    "name": "ipython",
    "version": 3
   },
   "file_extension": ".py",
   "mimetype": "text/x-python",
   "name": "python",
   "nbconvert_exporter": "python",
   "pygments_lexer": "ipython3",
   "version": "3.13.3"
  }
 },
 "nbformat": 4,
 "nbformat_minor": 5
}
