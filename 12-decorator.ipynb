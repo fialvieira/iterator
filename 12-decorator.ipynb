{
 "cells": [
  {
   "cell_type": "markdown",
   "id": "974c0b8a",
   "metadata": {},
   "source": [
    "Decorator\n",
    "- Modificam ou extendem o comportamento de funções existentes de forma reutilizável.\n",
    "- Adicionam funcionalidades a funções existentes sem modificar o seu código diretamente."
   ]
  }
 ],
 "metadata": {
  "kernelspec": {
   "display_name": "Python 3",
   "language": "python",
   "name": "python3"
  },
  "language_info": {
   "codemirror_mode": {
    "name": "ipython",
    "version": 3
   },
   "file_extension": ".py",
   "mimetype": "text/x-python",
   "name": "python",
   "nbconvert_exporter": "python",
   "pygments_lexer": "ipython3",
   "version": "3.12.1"
  }
 },
 "nbformat": 4,
 "nbformat_minor": 5
}
