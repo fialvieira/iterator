{
 "cells": [
  {
   "cell_type": "markdown",
   "id": "c0e093a4",
   "metadata": {},
   "source": [
    "Zip\n",
    "- É combinar múltiplos iteráveis (lista ou tupla) em um único iterável."
   ]
  },
  {
   "cell_type": "code",
   "execution_count": 1,
   "id": "a2eaf29f",
   "metadata": {},
   "outputs": [],
   "source": [
    "nomes = ['Alice', 'Bob', 'Charlie']\n",
    "idades = [25, 30, 35]"
   ]
  },
  {
   "cell_type": "code",
   "execution_count": 2,
   "id": "57bc8f01",
   "metadata": {},
   "outputs": [
    {
     "name": "stdout",
     "output_type": "stream",
     "text": [
      "Alice tem 25 anos.\n",
      "Bob tem 30 anos.\n",
      "Charlie tem 35 anos.\n"
     ]
    }
   ],
   "source": [
    "for nome, idade in zip(nomes, idades):\n",
    "    print(f\"{nome} tem {idade} anos.\")"
   ]
  },
  {
   "cell_type": "code",
   "execution_count": 3,
   "id": "3207f904",
   "metadata": {},
   "outputs": [
    {
     "data": {
      "text/plain": [
       "{'Alice': 25, 'Bob': 30, 'Charlie': 35}"
      ]
     },
     "execution_count": 3,
     "metadata": {},
     "output_type": "execute_result"
    }
   ],
   "source": [
    "pessoas = dict(zip(nomes, idades))\n",
    "pessoas"
   ]
  },
  {
   "cell_type": "code",
   "execution_count": 4,
   "id": "b4faf606",
   "metadata": {},
   "outputs": [
    {
     "data": {
      "text/plain": [
       "{'Charlie': 35}"
      ]
     },
     "execution_count": 4,
     "metadata": {},
     "output_type": "execute_result"
    }
   ],
   "source": [
    "pessoas_acima_30 = {nome: idade for nome, idade in pessoas.items() if idade > 30}\n",
    "pessoas_acima_30"
   ]
  }
 ],
 "metadata": {
  "kernelspec": {
   "display_name": "Python 3",
   "language": "python",
   "name": "python3"
  },
  "language_info": {
   "codemirror_mode": {
    "name": "ipython",
    "version": 3
   },
   "file_extension": ".py",
   "mimetype": "text/x-python",
   "name": "python",
   "nbconvert_exporter": "python",
   "pygments_lexer": "ipython3",
   "version": "3.12.1"
  }
 },
 "nbformat": 4,
 "nbformat_minor": 5
}
