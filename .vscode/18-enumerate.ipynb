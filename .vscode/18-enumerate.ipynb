{
 "cells": [
  {
   "cell_type": "markdown",
   "id": "6b879296",
   "metadata": {},
   "source": [
    "Enumerate\n",
    "- Consegue associar o valor e também o índice de uma lista."
   ]
  },
  {
   "cell_type": "code",
   "execution_count": 1,
   "id": "6d423842",
   "metadata": {},
   "outputs": [],
   "source": [
    "frutas = [\"maçã\", \"banana\", \"laranja\"]"
   ]
  },
  {
   "cell_type": "code",
   "execution_count": 2,
   "id": "6184707e",
   "metadata": {},
   "outputs": [
    {
     "name": "stdout",
     "output_type": "stream",
     "text": [
      "0: maçã\n",
      "1: banana\n",
      "2: laranja\n"
     ]
    }
   ],
   "source": [
    "for i, fruta in enumerate(frutas):\n",
    "    print(f\"{i}: {fruta}\")"
   ]
  },
  {
   "cell_type": "code",
   "execution_count": 3,
   "id": "8413b839",
   "metadata": {},
   "outputs": [],
   "source": [
    "numeros = [10,15,20,25,30]"
   ]
  },
  {
   "cell_type": "code",
   "execution_count": 5,
   "id": "7ec80e96",
   "metadata": {},
   "outputs": [
    {
     "data": {
      "text/plain": [
       "{0: 10, 1: 15, 2: 20, 3: 25, 4: 30}"
      ]
     },
     "execution_count": 5,
     "metadata": {},
     "output_type": "execute_result"
    }
   ],
   "source": [
    "indices_valores = {i: valor for i, valor in enumerate(numeros)}\n",
    "indices_valores"
   ]
  },
  {
   "cell_type": "code",
   "execution_count": 8,
   "id": "5cebf89b",
   "metadata": {},
   "outputs": [
    {
     "data": {
      "text/plain": [
       "{0: 10, 2: 20, 4: 30}"
      ]
     },
     "execution_count": 8,
     "metadata": {},
     "output_type": "execute_result"
    }
   ],
   "source": [
    "indices_pares = {i: valor for i, valor in indices_valores.items() if i % 2 == 0}\n",
    "indices_pares"
   ]
  }
 ],
 "metadata": {
  "kernelspec": {
   "display_name": "Python 3",
   "language": "python",
   "name": "python3"
  },
  "language_info": {
   "codemirror_mode": {
    "name": "ipython",
    "version": 3
   },
   "file_extension": ".py",
   "mimetype": "text/x-python",
   "name": "python",
   "nbconvert_exporter": "python",
   "pygments_lexer": "ipython3",
   "version": "3.12.1"
  }
 },
 "nbformat": 4,
 "nbformat_minor": 5
}
