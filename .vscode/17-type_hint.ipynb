{
 "cells": [
  {
   "cell_type": "markdown",
   "id": "218b2645",
   "metadata": {},
   "source": [
    "Type Hint\n",
    "- É uma maneira de indicar o tipo de variáveis, parâmetros e valores de retorno de funções."
   ]
  },
  {
   "cell_type": "code",
   "execution_count": 1,
   "id": "491b0326",
   "metadata": {},
   "outputs": [],
   "source": [
    "def soma(a: int, b: int) -> int:\n",
    "    return a + b"
   ]
  },
  {
   "cell_type": "code",
   "execution_count": 5,
   "id": "a4a8b03d",
   "metadata": {},
   "outputs": [
    {
     "data": {
      "text/plain": [
       "'Olá, Mundo!'"
      ]
     },
     "execution_count": 5,
     "metadata": {},
     "output_type": "execute_result"
    }
   ],
   "source": [
    "soma(\"Olá, \", \"Mundo!\")"
   ]
  },
  {
   "cell_type": "code",
   "execution_count": 6,
   "id": "0c90324a",
   "metadata": {},
   "outputs": [
    {
     "data": {
      "text/plain": [
       "15"
      ]
     },
     "execution_count": 6,
     "metadata": {},
     "output_type": "execute_result"
    }
   ],
   "source": [
    "soma(5,10)"
   ]
  },
  {
   "cell_type": "code",
   "execution_count": 7,
   "id": "b9f4c3f9",
   "metadata": {},
   "outputs": [],
   "source": [
    "from typing import List"
   ]
  },
  {
   "cell_type": "code",
   "execution_count": 9,
   "id": "4ec4c0a7",
   "metadata": {},
   "outputs": [],
   "source": [
    "class Estudante:\n",
    "    def __init__(self, nome: str, notas: List[float]) -> None:\n",
    "        self.nome = nome\n",
    "        self.notas = notas\n",
    "\n",
    "    def media(self) -> float:\n",
    "        return sum(self.notas) / len(self.notas) if self.notas else 0.0"
   ]
  },
  {
   "cell_type": "code",
   "execution_count": 11,
   "id": "5c3b669e",
   "metadata": {},
   "outputs": [],
   "source": [
    "def alunos_acima_da_media(alunos: List[Estudante], media_minima: float) -> List[str]:\n",
    "    return [aluno.nome for aluno in alunos if aluno.media() >= media_minima]"
   ]
  },
  {
   "cell_type": "code",
   "execution_count": 12,
   "id": "ba3d2039",
   "metadata": {},
   "outputs": [],
   "source": [
    "alunos = [\n",
    "    Estudante(\"Alice\", [8.5, 9.0, 7.5]),\n",
    "    Estudante(\"Bob\", [6.0, 5.5, 7.0]),\n",
    "    Estudante(\"Charlie\", [9.0, 8.5, 9.5])\n",
    "]"
   ]
  },
  {
   "cell_type": "code",
   "execution_count": 13,
   "id": "689cdaef",
   "metadata": {},
   "outputs": [
    {
     "data": {
      "text/plain": [
       "['Alice', 'Charlie']"
      ]
     },
     "execution_count": 13,
     "metadata": {},
     "output_type": "execute_result"
    }
   ],
   "source": [
    "alunos_acima_da_media(alunos, 7.0)"
   ]
  }
 ],
 "metadata": {
  "kernelspec": {
   "display_name": "Python 3",
   "language": "python",
   "name": "python3"
  },
  "language_info": {
   "codemirror_mode": {
    "name": "ipython",
    "version": 3
   },
   "file_extension": ".py",
   "mimetype": "text/x-python",
   "name": "python",
   "nbconvert_exporter": "python",
   "pygments_lexer": "ipython3",
   "version": "3.12.1"
  }
 },
 "nbformat": 4,
 "nbformat_minor": 5
}
