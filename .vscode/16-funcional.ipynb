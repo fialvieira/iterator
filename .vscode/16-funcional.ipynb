{
 "cells": [
  {
   "cell_type": "markdown",
   "id": "5c18778e",
   "metadata": {},
   "source": [
    "Programação Funcional\n",
    "- Trata a computação como a avaliação de funções matemáticas e evita estados e dados mutáveis."
   ]
  },
  {
   "cell_type": "code",
   "execution_count": 1,
   "id": "ecb9e4f8",
   "metadata": {},
   "outputs": [],
   "source": [
    "# Função de alta ordem - é uma função que recebe outra função como argumento ou retorna uma função como resultado.\n",
    "def quadrado(x):\n",
    "    return x ** 2\n",
    "\n",
    "def aplicar_funcao(funcao, lista):\n",
    "    return [funcao(x) for x in lista]"
   ]
  },
  {
   "cell_type": "code",
   "execution_count": 3,
   "id": "a2dbe042",
   "metadata": {},
   "outputs": [
    {
     "data": {
      "text/plain": [
       "[1, 4, 9, 16, 25]"
      ]
     },
     "execution_count": 3,
     "metadata": {},
     "output_type": "execute_result"
    }
   ],
   "source": [
    "numeros = [1, 2, 3, 4, 5]\n",
    "quadrados = aplicar_funcao(quadrado, numeros)\n",
    "quadrados"
   ]
  },
  {
   "cell_type": "code",
   "execution_count": 5,
   "id": "89af9a8c",
   "metadata": {},
   "outputs": [],
   "source": [
    "# Dados de exemplo\n",
    "usuarios = [\n",
    "    {\"nome\": \"Alice\", \"idade\": 30},\n",
    "    {\"nome\": \"Bob\", \"idade\": 25},\n",
    "    {\"nome\": \"Charlie\", \"idade\": 35},\n",
    "    {\"nome\": \"Diana\", \"idade\": 28}\n",
    "]"
   ]
  },
  {
   "cell_type": "code",
   "execution_count": 8,
   "id": "cddff17c",
   "metadata": {},
   "outputs": [],
   "source": [
    "def extrair_nomes(usuarios):\n",
    "    return list(map(lambda usuario: usuario[\"nome\"], usuarios))\n",
    "\n",
    "def filtrar_maiores_que(usuarios, idade):\n",
    "    return list(filter(lambda usuario: usuario[\"idade\"] > idade, usuarios))\n",
    "\n",
    "def calcular_media_idade(usuarios):\n",
    "    if not usuarios:\n",
    "        return 0\n",
    "    total_idade = sum(map(lambda usuario: usuario[\"idade\"], usuarios))\n",
    "    return total_idade / len(usuarios)"
   ]
  },
  {
   "cell_type": "code",
   "execution_count": 9,
   "id": "129d2cd9",
   "metadata": {},
   "outputs": [
    {
     "data": {
      "text/plain": [
       "['Alice', 'Bob', 'Charlie', 'Diana']"
      ]
     },
     "execution_count": 9,
     "metadata": {},
     "output_type": "execute_result"
    }
   ],
   "source": [
    "extrair_nomes(usuarios)"
   ]
  },
  {
   "cell_type": "code",
   "execution_count": 11,
   "id": "9834c938",
   "metadata": {},
   "outputs": [
    {
     "data": {
      "text/plain": [
       "[{'nome': 'Alice', 'idade': 30},\n",
       " {'nome': 'Charlie', 'idade': 35},\n",
       " {'nome': 'Diana', 'idade': 28}]"
      ]
     },
     "execution_count": 11,
     "metadata": {},
     "output_type": "execute_result"
    }
   ],
   "source": [
    "filtrar_maiores_que(usuarios, 27)"
   ]
  },
  {
   "cell_type": "code",
   "execution_count": 12,
   "id": "82a0f102",
   "metadata": {},
   "outputs": [
    {
     "data": {
      "text/plain": [
       "29.5"
      ]
     },
     "execution_count": 12,
     "metadata": {},
     "output_type": "execute_result"
    }
   ],
   "source": [
    "calcular_media_idade(usuarios)"
   ]
  },
  {
   "cell_type": "code",
   "execution_count": 13,
   "id": "316b2537",
   "metadata": {},
   "outputs": [],
   "source": [
    "from functools import lru_cache"
   ]
  },
  {
   "cell_type": "code",
   "execution_count": 16,
   "id": "73559e2b",
   "metadata": {},
   "outputs": [],
   "source": [
    "@lru_cache(maxsize=None)\n",
    "def fibonacci(n):\n",
    "    if n <= 1:\n",
    "        return n\n",
    "    return fibonacci(n - 1) + fibonacci(n - 2)"
   ]
  },
  {
   "cell_type": "code",
   "execution_count": 19,
   "id": "650b2504",
   "metadata": {},
   "outputs": [
    {
     "name": "stdout",
     "output_type": "stream",
     "text": [
      "Fibonacci(0) = 0\n",
      "Fibonacci(1) = 1\n",
      "Fibonacci(2) = 1\n",
      "Fibonacci(3) = 2\n",
      "Fibonacci(4) = 3\n",
      "Fibonacci(5) = 5\n",
      "Fibonacci(6) = 8\n",
      "Fibonacci(7) = 13\n",
      "Fibonacci(8) = 21\n",
      "Fibonacci(9) = 34\n"
     ]
    }
   ],
   "source": [
    "for i in range(10):\n",
    "    print(f\"Fibonacci({i}) = {fibonacci(i)}\")"
   ]
  }
 ],
 "metadata": {
  "kernelspec": {
   "display_name": "Python 3",
   "language": "python",
   "name": "python3"
  },
  "language_info": {
   "codemirror_mode": {
    "name": "ipython",
    "version": 3
   },
   "file_extension": ".py",
   "mimetype": "text/x-python",
   "name": "python",
   "nbconvert_exporter": "python",
   "pygments_lexer": "ipython3",
   "version": "3.12.1"
  }
 },
 "nbformat": 4,
 "nbformat_minor": 5
}
