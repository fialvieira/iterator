{
 "cells": [
  {
   "cell_type": "code",
   "execution_count": 1,
   "id": "9bd7b87a",
   "metadata": {},
   "outputs": [],
   "source": [
    "import re"
   ]
  },
  {
   "cell_type": "code",
   "execution_count": 12,
   "id": "8355c4ee",
   "metadata": {},
   "outputs": [],
   "source": [
    "def explorar_expressao_regular(texto):\n",
    "    padrao = r'\\bPython\\b' # Palavra Python\n",
    "    if re.search(padrao, texto):\n",
    "        print(\"O padrão foi encontrado no texto.\")\n",
    "    else:\n",
    "        print(\"O padrão não foi encontrado no texto.\")\n",
    "        \n",
    "    # Identificação de e-mails   \n",
    "    padrao_email = r'[a-zA-Z0-9._%+-]+@[a-zA-Z0-9.-]+\\.[a-zA-Z]{2,}'\n",
    "    emails = re.findall(padrao_email, texto)\n",
    "    print(f'E-mails encontrados: {emails}')\n",
    "    \n",
    "    # Substituir um padrão por outro\n",
    "    texto_substituido = re.sub(r'Python', 'Javascript', texto)\n",
    "    print(texto_substituido)\n",
    "    \n",
    "    # Dividir uma string com base em um padrão\n",
    "    texto_dividido = re.split(r'\\s+', texto)\n",
    "    print(texto_dividido)\n",
    "    "
   ]
  },
  {
   "cell_type": "code",
   "execution_count": 13,
   "id": "d6dcba48",
   "metadata": {},
   "outputs": [
    {
     "name": "stdout",
     "output_type": "stream",
     "text": [
      "O padrão foi encontrado no texto.\n",
      "E-mails encontrados: ['exemplo@dominio.com', 'fulano@example.org']\n",
      "\n",
      "Olá, eu sou um desenvolvedor Javascript.\n",
      "Você pode me contatar em meu e-mail: exemplo@dominio.com ou fulano@example.org.\n",
      "Javascript é uma linguagem de programação popular.\n",
      "\n",
      "['', 'Olá,', 'eu', 'sou', 'um', 'desenvolvedor', 'Python.', 'Você', 'pode', 'me', 'contatar', 'em', 'meu', 'e-mail:', 'exemplo@dominio.com', 'ou', 'fulano@example.org.', 'Python', 'é', 'uma', 'linguagem', 'de', 'programação', 'popular.', '']\n"
     ]
    }
   ],
   "source": [
    "texto_exemplo = \"\"\"\n",
    "Olá, eu sou um desenvolvedor Python.\n",
    "Você pode me contatar em meu e-mail: exemplo@dominio.com ou fulano@example.org.\n",
    "Python é uma linguagem de programação popular.\n",
    "\"\"\"\n",
    "explorar_expressao_regular(texto_exemplo)"
   ]
  }
 ],
 "metadata": {
  "kernelspec": {
   "display_name": "Python 3",
   "language": "python",
   "name": "python3"
  },
  "language_info": {
   "codemirror_mode": {
    "name": "ipython",
    "version": 3
   },
   "file_extension": ".py",
   "mimetype": "text/x-python",
   "name": "python",
   "nbconvert_exporter": "python",
   "pygments_lexer": "ipython3",
   "version": "3.12.1"
  }
 },
 "nbformat": 4,
 "nbformat_minor": 5
}
