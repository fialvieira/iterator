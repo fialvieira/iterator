{
 "cells": [
  {
   "cell_type": "code",
   "execution_count": 1,
   "id": "2ea7f892",
   "metadata": {},
   "outputs": [],
   "source": [
    "import re"
   ]
  },
  {
   "cell_type": "code",
   "execution_count": 5,
   "id": "d1938f1d",
   "metadata": {},
   "outputs": [],
   "source": [
    "def validar_contatos(contatos):\n",
    "    padrao_nome = r'Nome:\\s*([A-Z][a-z]+(?:\\s[A-Z][a-z]+)?)'\n",
    "    padrao_email = r'Email:\\s*([a-zA-Z0-9._%+-]+@[a-zA-Z0-9.-]+\\.[a-zA-Z]{2,})'\n",
    "    padrao_telefone = r'Telefone:\\s*(\\(\\d{2}\\)\\s\\d{5}-\\d{4}|\\d{5}-\\d{4})'\n",
    "    \n",
    "    for contato in contatos:\n",
    "        nome_match = re.search(padrao_nome, contato)\n",
    "        email_match = re.search(padrao_email, contato)\n",
    "        telefone_match = re.search(padrao_telefone, contato)\n",
    "        \n",
    "        if (nome_match and email_match and telefone_match):\n",
    "            nome = nome_match.group(1)\n",
    "            email = email_match.group(1)\n",
    "            telefone = telefone_match.group(1)\n",
    "            print(f'Contato válido: {nome}, Email: {email}, Telefone: {telefone}')\n",
    "        else:\n",
    "            print(f'Contato inválido: {contato}')"
   ]
  },
  {
   "cell_type": "code",
   "execution_count": 10,
   "id": "2e0f1a27",
   "metadata": {},
   "outputs": [],
   "source": [
    "contatos_exemplo = [\n",
    "    \"Nome: Alice Silva, Email: alice.silva@example.com, Telefone: (11) 98765-4321\",\n",
    "    \"Nome: Bob Santos, Email: bob.santos@example.com, Telefone: (22) 12345-6789\",\n",
    "    \"Nome: Charlie Oliveira, Email: charlie.oliveira@example.com, Telefone: (33) 98765-4321\"\n",
    "]"
   ]
  },
  {
   "cell_type": "code",
   "execution_count": 11,
   "id": "d6e4e559",
   "metadata": {},
   "outputs": [
    {
     "name": "stdout",
     "output_type": "stream",
     "text": [
      "Contato válido: Alice Silva, Email: alice.silva@example.com, Telefone: (11) 98765-4321\n",
      "Contato válido: Bob Santos, Email: bob.santos@example.com, Telefone: (22) 12345-6789\n",
      "Contato válido: Charlie Oliveira, Email: charlie.oliveira@example.com, Telefone: (33) 98765-4321\n"
     ]
    }
   ],
   "source": [
    "validar_contatos(contatos_exemplo)"
   ]
  }
 ],
 "metadata": {
  "kernelspec": {
   "display_name": "Python 3",
   "language": "python",
   "name": "python3"
  },
  "language_info": {
   "codemirror_mode": {
    "name": "ipython",
    "version": 3
   },
   "file_extension": ".py",
   "mimetype": "text/x-python",
   "name": "python",
   "nbconvert_exporter": "python",
   "pygments_lexer": "ipython3",
   "version": "3.12.1"
  }
 },
 "nbformat": 4,
 "nbformat_minor": 5
}
