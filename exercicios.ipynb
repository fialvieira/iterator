{
 "cells": [
  {
   "cell_type": "code",
   "execution_count": 4,
   "id": "502c3f3b",
   "metadata": {},
   "outputs": [],
   "source": [
    "import re"
   ]
  },
  {
   "cell_type": "code",
   "execution_count": 9,
   "id": "7294a0ef",
   "metadata": {},
   "outputs": [],
   "source": [
    "def extrair_urls(texto):\n",
    "    padrao_url = r'https?://[a-zA-Z0-9.-]+\\.[a-z-A-Z]{2,}'\n",
    "    urls = re.findall(padrao_url, texto)\n",
    "    return urls"
   ]
  },
  {
   "cell_type": "code",
   "execution_count": 10,
   "id": "bab20b4c",
   "metadata": {},
   "outputs": [
    {
     "name": "stdout",
     "output_type": "stream",
     "text": [
      "['https://www.exemplo.com', 'http://blog.exemplo.org', 'https://contato.exemplo.com.br']\n"
     ]
    }
   ],
   "source": [
    "texto_exemplo = \"\"\"\n",
    "Visite o nosso site em https://www.exemplo.com e\n",
    "http://blog.exemplo.org para mais informações.\n",
    "Entre em contato conosco em https://contato.exemplo.com.br\n",
    "\"\"\"\n",
    "\n",
    "urls_encontradas = extrair_urls(texto_exemplo)\n",
    "print(urls_encontradas)"
   ]
  },
  {
   "cell_type": "code",
   "execution_count": 11,
   "id": "7424150d",
   "metadata": {},
   "outputs": [],
   "source": [
    "def validar_senha(senha):\n",
    "    padrao_senha = r'^(?=.*[a-z])(?=.*[A-Z])(?=.*\\d)[A-Za-z\\d]{8,}$'\n",
    "    return bool(re.match(padrao_senha, senha))"
   ]
  },
  {
   "cell_type": "code",
   "execution_count": 12,
   "id": "422ddfae",
   "metadata": {},
   "outputs": [
    {
     "name": "stdout",
     "output_type": "stream",
     "text": [
      "A senha Senha123 é válida? True\n",
      "A senha senha123 é válida? False\n",
      "A senha SENHA123 é válida? False\n",
      "A senha Senha! é válida? False\n",
      "A senha Valida1 é válida? False\n"
     ]
    }
   ],
   "source": [
    "senhas = [\"Senha123\", \"senha123\", \"SENHA123\", \"Senha!\", \"Valida1\"]\n",
    "for s in senhas:\n",
    "    print(f\"A senha {s} é válida? {validar_senha(s)}\")"
   ]
  },
  {
   "cell_type": "code",
   "execution_count": 13,
   "id": "4012ddc4",
   "metadata": {},
   "outputs": [],
   "source": [
    "def contar_palavras(texto):\n",
    "    padrao = r'\\b\\w+\\b'\n",
    "    palavras = re.findall(padrao, texto)\n",
    "    return len(palavras)"
   ]
  },
  {
   "cell_type": "code",
   "execution_count": 14,
   "id": "e83f044f",
   "metadata": {},
   "outputs": [
    {
     "name": "stdout",
     "output_type": "stream",
     "text": [
      "11\n"
     ]
    }
   ],
   "source": [
    "texto_exemplo = \"Olá, mundo! Está é uma frase de exemplo para contar palavras.\"\n",
    "print(contar_palavras(texto_exemplo))"
   ]
  }
 ],
 "metadata": {
  "kernelspec": {
   "display_name": "Python 3",
   "language": "python",
   "name": "python3"
  },
  "language_info": {
   "codemirror_mode": {
    "name": "ipython",
    "version": 3
   },
   "file_extension": ".py",
   "mimetype": "text/x-python",
   "name": "python",
   "nbconvert_exporter": "python",
   "pygments_lexer": "ipython3",
   "version": "3.12.1"
  }
 },
 "nbformat": 4,
 "nbformat_minor": 5
}
