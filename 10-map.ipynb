{
 "cells": [
  {
   "cell_type": "markdown",
   "id": "4eb8e08d",
   "metadata": {},
   "source": [
    "Map\n",
    "- Função que aplica uma função a todos os itens de um iterável (uma lista, por exemplo).\n",
    "- É uma maneira eficiente e concisa de transformar dados."
   ]
  },
  {
   "cell_type": "code",
   "execution_count": 1,
   "id": "fa16d99d",
   "metadata": {},
   "outputs": [],
   "source": [
    "def quadrado(x):\n",
    "    return x ** 2"
   ]
  },
  {
   "cell_type": "code",
   "execution_count": 2,
   "id": "b5c5b73b",
   "metadata": {},
   "outputs": [],
   "source": [
    "numeros = [1,2,3,4,5]"
   ]
  },
  {
   "cell_type": "code",
   "execution_count": 3,
   "id": "cbe5f2e6",
   "metadata": {},
   "outputs": [
    {
     "name": "stdout",
     "output_type": "stream",
     "text": [
      "O quadrado de 1 é 1.\n",
      "O quadrado de 2 é 4.\n",
      "O quadrado de 3 é 9.\n",
      "O quadrado de 4 é 16.\n",
      "O quadrado de 5 é 25.\n"
     ]
    }
   ],
   "source": [
    "for n in numeros:\n",
    "    print(f'O quadrado de {n} é {quadrado(n)}.')"
   ]
  },
  {
   "cell_type": "code",
   "execution_count": 4,
   "id": "6d715717",
   "metadata": {},
   "outputs": [
    {
     "data": {
      "text/plain": [
       "[1, 4, 9, 16, 25]"
      ]
     },
     "execution_count": 4,
     "metadata": {},
     "output_type": "execute_result"
    }
   ],
   "source": [
    "resultados = map(quadrado, numeros)\n",
    "list(resultados)"
   ]
  },
  {
   "cell_type": "code",
   "execution_count": 5,
   "id": "320719ae",
   "metadata": {},
   "outputs": [],
   "source": [
    "def celsius_para_fahrenheit(c):\n",
    "    return (c * 9/5) + 32"
   ]
  },
  {
   "cell_type": "code",
   "execution_count": 6,
   "id": "e8c6db83",
   "metadata": {},
   "outputs": [],
   "source": [
    "temperaturas_celsius = [0, 20, 37, 100]"
   ]
  },
  {
   "cell_type": "code",
   "execution_count": 7,
   "id": "b68fa12b",
   "metadata": {},
   "outputs": [
    {
     "data": {
      "text/plain": [
       "[32.0, 68.0, 98.6, 212.0]"
      ]
     },
     "execution_count": 7,
     "metadata": {},
     "output_type": "execute_result"
    }
   ],
   "source": [
    "list(map(celsius_para_fahrenheit, temperaturas_celsius))"
   ]
  },
  {
   "cell_type": "code",
   "execution_count": 8,
   "id": "a194748f",
   "metadata": {},
   "outputs": [],
   "source": [
    "def normalizar_nome(nome):\n",
    "    return nome.strip().lower()"
   ]
  },
  {
   "cell_type": "code",
   "execution_count": 9,
   "id": "a6aab19c",
   "metadata": {},
   "outputs": [],
   "source": [
    "nomes = [\"   Ana\", \"João\", \"MARIA  \", \"pedro\", \"  LUcAs  \"]"
   ]
  },
  {
   "cell_type": "code",
   "execution_count": 10,
   "id": "dca92903",
   "metadata": {},
   "outputs": [
    {
     "data": {
      "text/plain": [
       "['ana', 'joão', 'maria', 'pedro', 'lucas']"
      ]
     },
     "execution_count": 10,
     "metadata": {},
     "output_type": "execute_result"
    }
   ],
   "source": [
    "list(map(normalizar_nome, nomes))"
   ]
  }
 ],
 "metadata": {
  "kernelspec": {
   "display_name": "Python 3",
   "language": "python",
   "name": "python3"
  },
  "language_info": {
   "codemirror_mode": {
    "name": "ipython",
    "version": 3
   },
   "file_extension": ".py",
   "mimetype": "text/x-python",
   "name": "python",
   "nbconvert_exporter": "python",
   "pygments_lexer": "ipython3",
   "version": "3.12.1"
  }
 },
 "nbformat": 4,
 "nbformat_minor": 5
}
